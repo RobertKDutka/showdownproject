{
 "cells": [
  {
   "cell_type": "code",
   "execution_count": 1,
   "source": [
    "from pokemon import *\r\n",
    "from poke_utils import *\r\n",
    "from pokemon_statistics import *\r\n",
    "from simulator import runSim, runSimList\r\n",
    "from simulator_obj import simulator\r\n",
    "import sqlite3\r\n",
    "import pickle"
   ],
   "outputs": [],
   "metadata": {}
  },
  {
   "cell_type": "code",
   "execution_count": 2,
   "source": [
    "%%time\r\n",
    "s = simulator('team.txt', ['incineroar', 'rillaboom', 'regieleki', 'amoonguss', 'kyogre','entei'])\r\n",
    "q = s.get_output()"
   ],
   "outputs": [
    {
     "output_type": "stream",
     "name": "stdout",
     "text": [
      "Wall time: 4.16 s\n"
     ]
    }
   ],
   "metadata": {}
  },
  {
   "cell_type": "code",
   "execution_count": 3,
   "source": [
    "%%time\r\n",
    "s.pred_lead()"
   ],
   "outputs": [
    {
     "output_type": "stream",
     "name": "stdout",
     "text": [
      "('regieleki', tensor([0.3158, 0.3016, 0.3827], device='cuda:0', grad_fn=<SelectBackward>))\n",
      "('entei', tensor([0.3532, 0.2814, 0.3654], device='cuda:0', grad_fn=<SelectBackward>))\n",
      "('amoonguss', tensor([0.2623, 0.3955, 0.3422], device='cuda:0', grad_fn=<SelectBackward>))\n",
      "('kyogre', tensor([0.2942, 0.3749, 0.3308], device='cuda:0', grad_fn=<SelectBackward>))\n",
      "('incineroar', tensor([0.3538, 0.3402, 0.3060], device='cuda:0', grad_fn=<SelectBackward>))\n",
      "('rillaboom', tensor([0.3882, 0.3066, 0.3052], device='cuda:0', grad_fn=<SelectBackward>))\n",
      "Wall time: 436 ms\n"
     ]
    },
    {
     "output_type": "execute_result",
     "data": {
      "text/plain": [
       "('regieleki', 'entei')"
      ]
     },
     "metadata": {},
     "execution_count": 3
    }
   ],
   "metadata": {}
  },
  {
   "cell_type": "code",
   "execution_count": 4,
   "source": [
    "# s.parse_battle_history()"
   ],
   "outputs": [
    {
     "output_type": "stream",
     "name": "stdout",
     "text": [
      "The opposing Politoed used Helping Hand!\n",
      "The opposing Politoed is ready to help the opposing Kingdra!\n",
      "Rhyperior used Protect!\n",
      "Rhyperior protected itself!\n",
      "Porygon2 used Thunderbolt!\n",
      "(The opposing Kingdra lost 24% of its health!)\n",
      "The opposing Kingdra fainted!\n",
      "(Rain continues to fall.)\n",
      "WonderFluffles sent out Thundurus!\n"
     ]
    }
   ],
   "metadata": {}
  },
  {
   "cell_type": "code",
   "execution_count": 5,
   "source": [
    "s.my_team_active('Porygon2', 'Slowbro-Galar') \r\n",
    "s.oppo_team_active('incineroar', 'rillaboom') \r\n",
    "\r\n",
    "print(s.ms.team1.active[0].name)\r\n",
    "print(s.ms.team1.active[1].name)\r\n",
    "print(s.ms.team1.active)\r\n",
    "print(s.ms.team2.active[0].name)\r\n",
    "print(s.ms.team2.active[1].name)\r\n",
    "print(s.ms.team2.active)"
   ],
   "outputs": [
    {
     "output_type": "stream",
     "name": "stdout",
     "text": [
      "Porygon2\n",
      "Slowbro-Galar\n",
      "[<pokemon.pokemon object at 0x00000223C7059880>, <pokemon.pokemon object at 0x00000223C7059B80>]\n",
      "incineroar\n",
      "rillaboom\n",
      "[<pokemon.pokemon object at 0x00000223CBCA7D90>, <pokemon.pokemon object at 0x00000223CBCA7D30>]\n"
     ]
    }
   ],
   "metadata": {}
  },
  {
   "cell_type": "code",
   "execution_count": 6,
   "source": [
    "%%time\r\n",
    "s.findBestMove()\r\n"
   ],
   "outputs": [
    {
     "output_type": "stream",
     "name": "stdout",
     "text": [
      "Wall time: 26.8 s\n"
     ]
    },
    {
     "output_type": "execute_result",
     "data": {
      "text/plain": [
       "('>p1 move 3 2, move 3 2\\n',\n",
       " {'move1': '3', 'target1': ' 2', 'move2': '3', 'target2': ' 2'})"
      ]
     },
     "metadata": {},
     "execution_count": 6
    }
   ],
   "metadata": {}
  },
  {
   "cell_type": "code",
   "execution_count": 18,
   "source": [
    "1 = 2"
   ],
   "outputs": [
    {
     "output_type": "error",
     "ename": "SyntaxError",
     "evalue": "cannot assign to literal (Temp/ipykernel_5284/690182220.py, line 1)",
     "traceback": [
      "\u001b[1;36m  File \u001b[1;32m\"C:\\Users\\KRZYSZ~1\\AppData\\Local\\Temp/ipykernel_5284/690182220.py\"\u001b[1;36m, line \u001b[1;32m1\u001b[0m\n\u001b[1;33m    1 = 2\u001b[0m\n\u001b[1;37m    ^\u001b[0m\n\u001b[1;31mSyntaxError\u001b[0m\u001b[1;31m:\u001b[0m cannot assign to literal\n"
     ]
    }
   ],
   "metadata": {}
  },
  {
   "cell_type": "code",
   "execution_count": 16,
   "source": [
    "import pickle\r\n",
    "f = open(\"movedex.pkl\", \"rb\")\r\n",
    "movedex = pickle.load(f)\r\n",
    "f.close()"
   ],
   "outputs": [],
   "metadata": {}
  },
  {
   "cell_type": "markdown",
   "source": [
    "# Testing below this point"
   ],
   "metadata": {}
  },
  {
   "cell_type": "code",
   "execution_count": null,
   "source": [
    "p1 = createPikalyticsPokemon('incineroar')\r\n",
    "p2 = createPikalyticsPokemon('regieleki')\r\n",
    "\r\n",
    "p3 = createPikalyticsPokemon('urshifu')\r\n",
    "p4 = createPikalyticsPokemon('grimmsnarl')\r\n",
    "\r\n",
    "combos = genMoveCombos([p1, p2], 'p1', False)\r\n",
    "print(len(combos))\r\n",
    "\r\n",
    "combos2 = genMoveCombos([p3, p4], 'p2', False)\r\n",
    "print(len(combos2))\r\n",
    "\r\n",
    "print(len(combos) * len(combos2))\r\n",
    "\r\n",
    "combos"
   ],
   "outputs": [],
   "metadata": {
    "scrolled": false
   }
  },
  {
   "cell_type": "code",
   "execution_count": null,
   "source": [],
   "outputs": [],
   "metadata": {}
  },
  {
   "cell_type": "code",
   "execution_count": null,
   "source": [
    "def makeFormatString(poke_name, moves=[], maxmoves=[], ability='', item=''):\r\n",
    "    # I should check the poke_name against table names in database or \r\n",
    "    # else ill get sql injected problem here, granted the consequences are small \r\n",
    "    # but lets be honest it also probably isnt\r\n",
    "    # put in a validate statement like if(validate(poke_name))\r\n",
    "        \r\n",
    "    format_string = 'SELECT * FROM ' + poke_name \r\n",
    "    format_tuple = ()\r\n",
    "    \r\n",
    "    where = False\r\n",
    "    \r\n",
    "    for move in moves:\r\n",
    "        if where:\r\n",
    "            format_string += ' AND (move1=? OR move2=? OR move3=? OR move4=?)'\r\n",
    "        else:\r\n",
    "            format_string += ' WHERE (move1=? OR move2=? OR move3=? OR move4=?)'\r\n",
    "            where = True\r\n",
    "        format_tuple += (move, move, move, move)\r\n",
    "    \r\n",
    "    for move in maxmoves:\r\n",
    "        if where:\r\n",
    "            format_string += ' AND (maxmove1=? OR maxmove2=? OR maxmove3=? OR maxmove4=?)'\r\n",
    "        else:\r\n",
    "            format_string += ' WHERE (maxmove1=? OR maxmove2=? OR maxmove3=? OR maxmove4=?)'\r\n",
    "            where = True\r\n",
    "        format_tuple += (move, move, move, move)\r\n",
    "                \r\n",
    "    if ability_name != '':\r\n",
    "        if where: \r\n",
    "            format_string += ' AND ability=?'\r\n",
    "        else:\r\n",
    "            format_string += ' WHERE ability=?'\r\n",
    "            where = True\r\n",
    "        format_tuple += (ability_name,)\r\n",
    "        \r\n",
    "    if item_name != '':\r\n",
    "        if where: \r\n",
    "            format_string += ' AND item=?'\r\n",
    "        else:\r\n",
    "            format_string += ' WHERE item=?'\r\n",
    "            where = True\r\n",
    "        format_tuple += (item_name,)\r\n",
    "    \r\n",
    "    \r\n",
    "    return format_string, format_tuple\r\n",
    "\r\n",
    "def update_freq(freq, key):\r\n",
    "    if key in freq:\r\n",
    "        freq[key] += 1\r\n",
    "    else:\r\n",
    "        freq[key] = 1\r\n",
    "        \r\n",
    "def update_predictions(pokemon):\r\n",
    "    format_string, format_tuple = makeFormatString(pokemon.name, pokemon.moves, pokemon.max_moves, \r\n",
    "                                                   pokemon.ability, pokemon.item)\r\n",
    "    cursor.execute(format_string, format_tuple)\r\n",
    "    \r\n",
    "    total = 0\r\n",
    "    move_freq = {}\r\n",
    "    ability_freq = {}\r\n",
    "    item_freq = {}\r\n",
    "    for (num_id, ability, item, move1, move2, move3, move4, _, _, _, _) in cursor:\r\n",
    "        total += 1\r\n",
    "\r\n",
    "        update_freq(ability_freq, ability)\r\n",
    "        update_freq(item_freq, item)\r\n",
    "\r\n",
    "        update_freq(move_freq, move1)\r\n",
    "        update_freq(move_freq, move2)\r\n",
    "        update_freq(move_freq, move3)\r\n",
    "        update_freq(move_freq, move4)\r\n",
    "    \r\n",
    "    if \"UNKNOWN\" in ability_freq.keys():\r\n",
    "        ability_freq.pop(\"UNKNOWN\")\r\n",
    "    if \"UNKNOWN\" in item_freq.keys():\r\n",
    "        item_freq.pop(\"UNKNOWN\")\r\n",
    "    if \"UNKNOWN\" in move_freq.keys():\r\n",
    "        move_freq.pop(\"UNKNOWN\")\r\n",
    "    if \"UNKNOWN\" in maxmove_freq.keys():\r\n",
    "        maxmove_freq.pop(\"UNKNOWN\")\r\n",
    "    \r\n",
    "    if (pokemon.ability == ''):\r\n",
    "        key, _ = max(ability_freq.items(), key=lambda x:x[1])\r\n",
    "        pokemon.pred_ability = key\r\n",
    "    \r\n",
    "    if (pokemon.item == ''):\r\n",
    "        key, _ = max(item_freq.items(), key=lambda x:x[1])\r\n",
    "        pokemon.pred_item = key\r\n",
    "    \r\n",
    "    pokemon.pred_moves = []\r\n",
    "    for i in range(4 - len(pokemon.moves)):\r\n",
    "        key, _ = max(move_freq.items(), key=lambda x:x[1])\r\n",
    "        pokemon.pred_moves.append(key)\r\n",
    "        move_freq.pop(key)\r\n",
    "    "
   ],
   "outputs": [],
   "metadata": {}
  },
  {
   "cell_type": "code",
   "execution_count": null,
   "source": [
    "connection = sqlite3.connect(\"pokemon_profiles.db\")\r\n",
    "cursor = connection.cursor()"
   ],
   "outputs": [],
   "metadata": {}
  },
  {
   "cell_type": "code",
   "execution_count": null,
   "source": [],
   "outputs": [],
   "metadata": {}
  }
 ],
 "metadata": {
  "kernelspec": {
   "name": "python3",
   "display_name": "Python 3.8.11 64-bit ('base': conda)"
  },
  "language_info": {
   "codemirror_mode": {
    "name": "ipython",
    "version": 3
   },
   "file_extension": ".py",
   "mimetype": "text/x-python",
   "name": "python",
   "nbconvert_exporter": "python",
   "pygments_lexer": "ipython3",
   "version": "3.8.11"
  },
  "interpreter": {
   "hash": "7b52fe29c1e09a746caf063033c40a0708ca41f5d49dac9f1b4c21cb09ed9f51"
  }
 },
 "nbformat": 4,
 "nbformat_minor": 4
}