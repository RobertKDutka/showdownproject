{
 "cells": [
  {
   "cell_type": "code",
   "execution_count": 1,
   "metadata": {},
   "outputs": [],
   "source": [
    "import tkinter as tk\n",
    "from tkinter import *\n",
    "#from PIL import ImageTk, Image\n",
    "\n",
    "import sqlite3"
   ]
  },
  {
   "cell_type": "markdown",
   "metadata": {},
   "source": [
    "The below code could be easily reduced using loops for the various repeated\n",
    "elements, idk why i didnt do that at first\n"
   ]
  },
  {
   "cell_type": "code",
   "execution_count": 2,
   "metadata": {},
   "outputs": [
    {
     "name": "stdout",
     "output_type": "stream",
     "text": [
      "SELECT * FROM Rillaboom\n",
      "SELECT * FROM Regieleki\n"
     ]
    },
    {
     "name": "stderr",
     "output_type": "stream",
     "text": [
      "Exception in Tkinter callback\n",
      "Traceback (most recent call last):\n",
      "  File \"/usr/lib/python3.6/tkinter/__init__.py\", line 1705, in __call__\n",
      "    return self.func(*args)\n",
      "  File \"<ipython-input-2-368f1804181e>\", line 109, in update_known\n",
      "    cursor.execute(format_string, format_tuple)\n",
      "sqlite3.OperationalError: no such table: Regieleki\n"
     ]
    },
    {
     "name": "stdout",
     "output_type": "stream",
     "text": [
      "SELECT * FROM Regidrago\n"
     ]
    },
    {
     "name": "stderr",
     "output_type": "stream",
     "text": [
      "Exception in Tkinter callback\n",
      "Traceback (most recent call last):\n",
      "  File \"/usr/lib/python3.6/tkinter/__init__.py\", line 1705, in __call__\n",
      "    return self.func(*args)\n",
      "  File \"<ipython-input-2-368f1804181e>\", line 109, in update_known\n",
      "    cursor.execute(format_string, format_tuple)\n",
      "sqlite3.OperationalError: no such table: Regidrago\n"
     ]
    },
    {
     "name": "stdout",
     "output_type": "stream",
     "text": [
      "SELECT * FROM Regigigas\n"
     ]
    },
    {
     "name": "stderr",
     "output_type": "stream",
     "text": [
      "Exception in Tkinter callback\n",
      "Traceback (most recent call last):\n",
      "  File \"/usr/lib/python3.6/tkinter/__init__.py\", line 1705, in __call__\n",
      "    return self.func(*args)\n",
      "  File \"<ipython-input-2-368f1804181e>\", line 109, in update_known\n",
      "    cursor.execute(format_string, format_tuple)\n",
      "sqlite3.OperationalError: no such table: Regigigas\n"
     ]
    },
    {
     "name": "stdout",
     "output_type": "stream",
     "text": [
      "SELECT * FROM Regigigas\n"
     ]
    },
    {
     "name": "stderr",
     "output_type": "stream",
     "text": [
      "Exception in Tkinter callback\n",
      "Traceback (most recent call last):\n",
      "  File \"/usr/lib/python3.6/tkinter/__init__.py\", line 1705, in __call__\n",
      "    return self.func(*args)\n",
      "  File \"<ipython-input-2-368f1804181e>\", line 109, in update_known\n",
      "    cursor.execute(format_string, format_tuple)\n",
      "sqlite3.OperationalError: no such table: Regigigas\n"
     ]
    },
    {
     "name": "stdout",
     "output_type": "stream",
     "text": [
      "SELECT * FROM Regigigas\n",
      "SELECT * FROM Regigigas\n"
     ]
    },
    {
     "name": "stderr",
     "output_type": "stream",
     "text": [
      "Exception in Tkinter callback\n",
      "Traceback (most recent call last):\n",
      "  File \"/usr/lib/python3.6/tkinter/__init__.py\", line 1705, in __call__\n",
      "    return self.func(*args)\n",
      "  File \"<ipython-input-2-368f1804181e>\", line 109, in update_known\n",
      "    cursor.execute(format_string, format_tuple)\n",
      "sqlite3.OperationalError: no such table: Regigigas\n",
      "Exception in Tkinter callback\n",
      "Traceback (most recent call last):\n",
      "  File \"/usr/lib/python3.6/tkinter/__init__.py\", line 1705, in __call__\n",
      "    return self.func(*args)\n",
      "  File \"<ipython-input-2-368f1804181e>\", line 109, in update_known\n",
      "    cursor.execute(format_string, format_tuple)\n",
      "sqlite3.OperationalError: no such table: Regigigas\n"
     ]
    },
    {
     "name": "stdout",
     "output_type": "stream",
     "text": [
      "SELECT * FROM Regigigas\n",
      "SELECT * FROM Regigigas\n"
     ]
    },
    {
     "name": "stderr",
     "output_type": "stream",
     "text": [
      "Exception in Tkinter callback\n",
      "Traceback (most recent call last):\n",
      "  File \"/usr/lib/python3.6/tkinter/__init__.py\", line 1705, in __call__\n",
      "    return self.func(*args)\n",
      "  File \"<ipython-input-2-368f1804181e>\", line 109, in update_known\n",
      "    cursor.execute(format_string, format_tuple)\n",
      "sqlite3.OperationalError: no such table: Regigigas\n",
      "Exception in Tkinter callback\n",
      "Traceback (most recent call last):\n",
      "  File \"/usr/lib/python3.6/tkinter/__init__.py\", line 1705, in __call__\n",
      "    return self.func(*args)\n",
      "  File \"<ipython-input-2-368f1804181e>\", line 109, in update_known\n",
      "    cursor.execute(format_string, format_tuple)\n",
      "sqlite3.OperationalError: no such table: Regigigas\n"
     ]
    },
    {
     "name": "stdout",
     "output_type": "stream",
     "text": [
      "SELECT * FROM Regirock\n"
     ]
    },
    {
     "name": "stderr",
     "output_type": "stream",
     "text": [
      "Exception in Tkinter callback\n",
      "Traceback (most recent call last):\n",
      "  File \"/usr/lib/python3.6/tkinter/__init__.py\", line 1705, in __call__\n",
      "    return self.func(*args)\n",
      "  File \"<ipython-input-2-368f1804181e>\", line 109, in update_known\n",
      "    cursor.execute(format_string, format_tuple)\n",
      "sqlite3.OperationalError: no such table: Regirock\n"
     ]
    },
    {
     "name": "stdout",
     "output_type": "stream",
     "text": [
      "SELECT * FROM Regirock\n",
      "SELECT * FROM Regirock\n"
     ]
    },
    {
     "name": "stderr",
     "output_type": "stream",
     "text": [
      "Exception in Tkinter callback\n",
      "Traceback (most recent call last):\n",
      "  File \"/usr/lib/python3.6/tkinter/__init__.py\", line 1705, in __call__\n",
      "    return self.func(*args)\n",
      "  File \"<ipython-input-2-368f1804181e>\", line 109, in update_known\n",
      "    cursor.execute(format_string, format_tuple)\n",
      "sqlite3.OperationalError: no such table: Regirock\n",
      "Exception in Tkinter callback\n",
      "Traceback (most recent call last):\n",
      "  File \"/usr/lib/python3.6/tkinter/__init__.py\", line 1705, in __call__\n",
      "    return self.func(*args)\n",
      "  File \"<ipython-input-2-368f1804181e>\", line 109, in update_known\n",
      "    cursor.execute(format_string, format_tuple)\n",
      "sqlite3.OperationalError: no such table: Regirock\n"
     ]
    },
    {
     "name": "stdout",
     "output_type": "stream",
     "text": [
      "SELECT * FROM Incineroar\n",
      "SELECT * FROM Incineroar\n",
      "SELECT * FROM Incineroar\n",
      "SELECT * FROM Incineroar\n",
      "SELECT * FROM Togekiss\n",
      "SELECT * FROM Rhyperior\n"
     ]
    }
   ],
   "source": [
    "connection = sqlite3.connect(\"pokemon_profiles.db\")\n",
    "\n",
    "cursor = connection.cursor()\n",
    "\n",
    "window = tk.Tk()\n",
    "\n",
    "window.title(\"Showdown Project\")\n",
    "\n",
    "def makeFormatString(poke_name, ability_name, item_name):\n",
    "    #I should check the poke_name against table names in database or else ill get sql injected problem here, granted the consequences are small but lets be honest it also probably isnt\n",
    "    #put in a validate statement like if(validate(poke_name))\n",
    "    format_string = 'SELECT * FROM ' + poke_name \n",
    "    format_tuple = ()\n",
    "    \n",
    "    move_one = move1_field.get()\n",
    "    while(True):\n",
    "        if move_one == \"Move\":\n",
    "            break\n",
    "        format_string = format_string + ' WHERE (move1=%s OR move2=%s OR move3=%s OR move4=%s)'\n",
    "        format_tuple = format_tuple + (move_one, move_one, move_one, move_one)\n",
    "        \n",
    "        move_two = move2_field.get()\n",
    "        if move_two == \"Move\":\n",
    "            break\n",
    "        format_string = format_string + ' AND (move1=%s OR move2=%s OR move3=%s OR move4=%s)'\n",
    "        format_tuple = format_tuple + (move_two, move_two, move_two, move_two)\n",
    "    \n",
    "        move_three = move3_field.get()\n",
    "        if move_three == \"Move\":\n",
    "            break\n",
    "        format_string = format_string + ' AND (move1=%s OR move2=%s OR move3=%s OR move4=%s)'\n",
    "        format_tuple = format_tuple + (move_three, move_three, move_three, move_three)\n",
    "    \n",
    "        move_four = move4_field.get()\n",
    "        if move_four == \"Move\":\n",
    "            break\n",
    "        format_string = format_string + ' AND (move1=%s OR move2=%s OR move3=%s OR move4=%s)'\n",
    "        format_tuple = format_tuple + (move_four, move_four, move_four, move_four)\n",
    "        break\n",
    "    \n",
    "    while(True):\n",
    "        maxmove_one = maxmove1_field.get()\n",
    "        if maxmove_one == \"Max Move\":\n",
    "            break\n",
    "        elif move_one == \"Move\":\n",
    "            format_string = format_string + ' WHERE (maxmove1=%s OR maxmove2=%s OR maxmove3=%s OR maxmove4=%s)'\n",
    "            format_tuple = format_tuple + (maxmove_one, maxmove_one, maxmove_one, maxmove_one)\n",
    "        else:\n",
    "            format_string = format_string + ' AND (maxmove1=%s OR maxmove2=%s OR maxmove3=%s OR maxmove4=%s)'\n",
    "            format_tuple = format_tuple + (maxmove_one, maxmove_one, maxmove_one, maxmove_one)\n",
    "    \n",
    "        maxmove_two = move2_field.get()\n",
    "        if maxmove_two == \"Max Move\":\n",
    "            break\n",
    "        format_string = format_string + ' AND (maxmove1=%s OR maxmove2=%s OR maxmove3=%s OR maxmove4=%s)'\n",
    "        format_tuple = format_tuple + (maxmove_two, maxmove_two, maxmove_two, maxmove_two)\n",
    "    \n",
    "        maxmove_three = move3_field.get()\n",
    "        if maxmove_three == \"Max Move\":\n",
    "            break\n",
    "        format_string = format_string + ' AND (maxmove1=%s OR maxmove2=%s OR maxmove3=%s OR maxmove4=%s)'\n",
    "        format_tuple = format_tuple + (maxmove_three, maxmove_three, maxmove_three, maxmove_three)\n",
    "    \n",
    "        maxmove_four = maxmove4_field.get()\n",
    "        if maxmove_four == \"Max Move\":\n",
    "            break\n",
    "        format_string = format_string + ' AND (maxmove1=%s OR maxmove2=%s OR maxmove3=%s OR maxmove4=%s)'\n",
    "        format_tuple = format_tuple + (maxmove_four, maxmove_four, maxmove_four, maxmove_four)\n",
    "        break\n",
    "    \n",
    "    if ability_name != \"Ability\":\n",
    "        if move_one == \"Move\" and maxmove_one == \"Max Move\": \n",
    "            format_string = format_string + ' WHERE ability=%s'\n",
    "            format_tuple = format_tuple + (ability_name,)\n",
    "        else:\n",
    "            format_string = format_string + ' AND ability=%s'\n",
    "            format_tuple = format_tuple + (ability_name,)\n",
    "        \n",
    "    if item_name != \"Item\":\n",
    "        if move_one == \"Move\" and maxmove_one == \"Max Move\" and ability_name==\"Ability\": \n",
    "            format_string = format_string + ' WHERE item=%s'\n",
    "            format_tuple = format_tuple + (item_name,)\n",
    "        else:\n",
    "            format_string = format_string + ' AND item=%s'\n",
    "            format_tuple = format_tuple + (item_name,)\n",
    "    \n",
    "    return format_string, format_tuple\n",
    "\n",
    "def clearFreqLabels():\n",
    "    for i in range(len(ability_lbl)):\n",
    "        ability_lbl[i].configure(text=\"\")\n",
    "        \n",
    "    for i in range(len(item_lbl)):\n",
    "        item_lbl[i].configure(text=\"\")\n",
    "    \n",
    "    for i in range(len(freq_lbl)):\n",
    "        freq_lbl[i].configure(text=\"\")\n",
    "        \n",
    "    for i in range(len(maxfreq_lbl)):\n",
    "        maxfreq_lbl[i].configure(text=\"\")\n",
    "\n",
    "def update_known():\n",
    "    poke_name = poke_name_field.get()\n",
    "    ability_name = ability_name_field.get()\n",
    "    item_name = item_name_field.get()\n",
    "    \n",
    "    format_string, format_tuple = makeFormatString(poke_name, ability_name, item_name)\n",
    "    print(format_string)\n",
    "    cursor.execute(format_string, format_tuple)\n",
    "    \n",
    "    total = 0\n",
    "    move_freq = {}\n",
    "    maxmove_freq = {}\n",
    "    ability_freq = {}\n",
    "    item_freq = {}\n",
    "    for (num_id, ability, item, move1, move2, move3, move4, maxmove1, maxmove2, maxmove3, maxmove4) in cursor:\n",
    "        total += 1\n",
    "        if ability in ability_freq:\n",
    "            ability_freq[ability] += 1\n",
    "        else:\n",
    "            ability_freq[ability] = 1\n",
    "            \n",
    "        if item in item_freq:\n",
    "            item_freq[item] += 1\n",
    "        else:\n",
    "            item_freq[item] = 1\n",
    "            \n",
    "        if move1 in move_freq:\n",
    "            move_freq[move1] += 1\n",
    "        else:\n",
    "            move_freq[move1] = 1\n",
    "        \n",
    "        if move2 in move_freq:\n",
    "            move_freq[move2] += 1\n",
    "        else:\n",
    "            move_freq[move2] = 1\n",
    "            \n",
    "        if move3 in move_freq:\n",
    "            move_freq[move3] += 1\n",
    "        else:\n",
    "            move_freq[move3] = 1\n",
    "            \n",
    "        if move4 in move_freq:\n",
    "            move_freq[move4] += 1\n",
    "        else:\n",
    "            move_freq[move4] = 1\n",
    "            \n",
    "        if maxmove1 in maxmove_freq:\n",
    "            maxmove_freq[maxmove1] += 1\n",
    "        else:\n",
    "            maxmove_freq[maxmove1] = 1\n",
    "        \n",
    "        if maxmove2 in maxmove_freq:\n",
    "            maxmove_freq[maxmove2] += 1\n",
    "        else:\n",
    "            maxmove_freq[maxmove2] = 1\n",
    "            \n",
    "        if maxmove3 in maxmove_freq:\n",
    "            maxmove_freq[maxmove3] += 1\n",
    "        else:\n",
    "            maxmove_freq[maxmove3] = 1\n",
    "            \n",
    "        if maxmove4 in maxmove_freq:\n",
    "            maxmove_freq[maxmove4] += 1\n",
    "        else:\n",
    "            maxmove_freq[maxmove4] = 1\n",
    "    \n",
    "    clearFreqLabels()\n",
    "    if \"UNKNOWN\" in ability_freq.keys():\n",
    "        ability_freq.pop(\"UNKNOWN\")\n",
    "    if \"UNKNOWN\" in item_freq.keys():\n",
    "        item_freq.pop(\"UNKNOWN\")\n",
    "    if \"UNKNOWN\" in move_freq.keys():\n",
    "        move_freq.pop(\"UNKNOWN\")\n",
    "    if \"UNKNOWN\" in maxmove_freq.keys():\n",
    "        maxmove_freq.pop(\"UNKNOWN\")\n",
    "    \n",
    "    for i in range(min(4, len(ability_freq))):\n",
    "        key, value = max(ability_freq.items(), key=lambda x:x[1])\n",
    "        format_string = \"{ability_name} : {usage} / {num_poke} ({fraction:.2f})\"\n",
    "        format_string = format_string.format(ability_name=key, usage=value, num_poke=total, fraction=value/float(total))\n",
    "        ability_lbl[i].configure(text=format_string)\n",
    "        ability_freq.pop(key)\n",
    "                   \n",
    "    for i in range(min(4, len(item_freq))):\n",
    "        key, value = max(item_freq.items(), key=lambda x:x[1])\n",
    "        format_string = \"{item_name} : {usage} / {num_poke} ({fraction:.2f})\"\n",
    "        format_string = format_string.format(item_name=key, usage=value, num_poke=total, fraction=value/float(total))\n",
    "        item_lbl[i].configure(text=format_string)\n",
    "        item_freq.pop(key)\n",
    "    \n",
    "    for i in range(min(8, len(move_freq))):\n",
    "        key, value = max(move_freq.items(), key=lambda x:x[1])\n",
    "        format_string = \"{move_name} : {usage} / {num_poke} ({fraction:.2f})\"\n",
    "        format_string = format_string.format(move_name=key, usage=value, num_poke=total, fraction=value/float(total))\n",
    "        freq_lbl[i].configure(text=format_string)\n",
    "        move_freq.pop(key)\n",
    "    \n",
    "    for i in range(min(8, len(maxmove_freq))):\n",
    "        key, value = max(maxmove_freq.items(), key=lambda x:x[1])\n",
    "        format_string = \"{move_name} : {usage} / {num_poke} ({fraction:.2f})\"\n",
    "        format_string = format_string.format(move_name=key, usage=value, num_poke=total, fraction=value/float(total))\n",
    "        maxfreq_lbl[i].configure(text=format_string)\n",
    "        maxmove_freq.pop(key)\n",
    "    \n",
    "    \n",
    "\n",
    "ability_lbl = []\n",
    "for i in range(4):\n",
    "    ability_lbl.append(tk.Label(window, text=\"\"))\n",
    "    ability_lbl[i].grid(row=(1+i), column=1)\n",
    "                   \n",
    "item_lbl = []\n",
    "for i in range(4):\n",
    "    item_lbl.append(tk.Label(window, text=\"\"))\n",
    "    item_lbl[i].grid(row=(5+i), column=1)\n",
    "                   \n",
    "freq_lbl = []\n",
    "for i in range(8):\n",
    "    freq_lbl.append(tk.Label(window, text=\"\"))\n",
    "    freq_lbl[i].grid(row=(1+i), column=3)\n",
    "    \n",
    "maxfreq_lbl = []\n",
    "for i in range(8):\n",
    "    maxfreq_lbl.append(tk.Label(window, text=\"\"))\n",
    "    maxfreq_lbl[i].grid(row=(1+i), column=4)\n",
    "\n",
    "    \n",
    "poke_name = StringVar(window, value=\"Pokemon Name\")\n",
    "poke_name_field = tk.Entry(window, textvariable=poke_name)\n",
    "poke_name_field.grid(row=0, column=0)\n",
    "\n",
    "ability_name = StringVar(window, value=\"Ability\")\n",
    "ability_name_field = tk.Entry(window, textvariable=ability_name)\n",
    "ability_name_field.grid(row=1, column=0)\n",
    "\n",
    "item_name = StringVar(window, value=\"Item\")\n",
    "item_name_field = tk.Entry(window, textvariable=item_name)\n",
    "item_name_field.grid(row=2, column=0)\n",
    "\n",
    "move1 = StringVar(window, value=\"Move\")\n",
    "move1_field = tk.Entry(window, textvariable=move1)\n",
    "move1_field.grid(row=3, column=0)\n",
    "\n",
    "move2 = StringVar(window, value=\"Move\")\n",
    "move2_field = tk.Entry(window, textvariable=move2)\n",
    "move2_field.grid(row=4, column=0)\n",
    "\n",
    "move3 = StringVar(window, value=\"Move\")\n",
    "move3_field = tk.Entry(window, textvariable=move3)\n",
    "move3_field.grid(row=5, column=0)\n",
    "\n",
    "move4 = StringVar(window, value=\"Move\")\n",
    "move4_field = tk.Entry(window, textvariable=move4)\n",
    "move4_field.grid(row=6, column=0)\n",
    "\n",
    "maxmove1 = StringVar(window, value=\"Max Move\")\n",
    "maxmove1_field = tk.Entry(window, textvariable=maxmove1)\n",
    "maxmove1_field.grid(row=7, column=0)\n",
    "\n",
    "maxmove2 = StringVar(window, value=\"Max Move\")\n",
    "maxmove2_field = tk.Entry(window, textvariable=maxmove2)\n",
    "maxmove2_field.grid(row=8, column=0)\n",
    "\n",
    "maxmove3 = StringVar(window, value=\"Max Move\")\n",
    "maxmove3_field = tk.Entry(window, textvariable=maxmove3)\n",
    "maxmove3_field.grid(row=9, column=0)\n",
    "\n",
    "maxmove4 = StringVar(window, value=\"Max Move\")\n",
    "maxmove4_field = tk.Entry(window, textvariable=maxmove4)\n",
    "maxmove4_field.grid(row=10, column=0)\n",
    "\n",
    "update_btn = tk.Button(window, text=\"Update Info\", command=update_known)\n",
    "update_btn.grid(row=0, column=1)\n",
    "\n",
    "window.mainloop()\n",
    "\n",
    "cursor.close()\n",
    "connection.close()"
   ]
  },
  {
   "cell_type": "code",
   "execution_count": 27,
   "metadata": {},
   "outputs": [
    {
     "ename": "OperationalError",
     "evalue": "(2006, '')",
     "output_type": "error",
     "traceback": [
      "\u001b[0;31m---------------------------------------------------------------------------\u001b[0m",
      "\u001b[0;31mOperationalError\u001b[0m                          Traceback (most recent call last)",
      "\u001b[0;32m<ipython-input-27-9162a7eff301>\u001b[0m in \u001b[0;36m<module>\u001b[0;34m\u001b[0m\n\u001b[1;32m      1\u001b[0m \u001b[0mcursor\u001b[0m\u001b[0;34m.\u001b[0m\u001b[0mclose\u001b[0m\u001b[0;34m(\u001b[0m\u001b[0;34m)\u001b[0m\u001b[0;34m\u001b[0m\u001b[0;34m\u001b[0m\u001b[0m\n\u001b[0;32m----> 2\u001b[0;31m \u001b[0mconnection\u001b[0m\u001b[0;34m.\u001b[0m\u001b[0mclose\u001b[0m\u001b[0;34m(\u001b[0m\u001b[0;34m)\u001b[0m\u001b[0;34m\u001b[0m\u001b[0;34m\u001b[0m\u001b[0m\n\u001b[0m",
      "\u001b[0;31mOperationalError\u001b[0m: (2006, '')"
     ]
    }
   ],
   "source": [
    "cursor.close()\n",
    "connection.close()"
   ]
  },
  {
   "cell_type": "raw",
   "metadata": {},
   "source": [
    "ANY CODE BELOW THIS IS JUST FOR TESTING SOMETHING BEFORE I PUT IT IN\n",
    "#####################################################################\n",
    "VVVVVVVVVVVVVVVVVVVVVVVVVVVVVVVVVVVVVVVVVVVVVVVVVVVVVVVVVVVVVVVVVVVVV"
   ]
  },
  {
   "cell_type": "code",
   "execution_count": 85,
   "metadata": {},
   "outputs": [
    {
     "name": "stdout",
     "output_type": "stream",
     "text": [
      "SELECT * FROM pokemon_profiles.Gyarados WHERE (move1=%s OR move2=%s OR move3=%s OR move4=%s)\n",
      "('Protect', 'Protect', 'Protect', 'Protect')\n"
     ]
    }
   ],
   "source": [
    "one = \"Protect\"\n",
    "two = \"Move\"\n",
    "three = \"Move\"\n",
    "four = \"Move\"\n",
    "one1 = \"Max Move\"\n",
    "two1 = \"Max Move\"\n",
    "three1 = \"Max Move\"\n",
    "four1 = \"Max Move\"\n",
    "\n",
    "def makeFormatString(poke_name):\n",
    "    format_string = \"SELECT * FROM pokemon_profiles.\" + poke_name\n",
    "    format_tuple = ()\n",
    "    \n",
    "    move_one = one\n",
    "    while(True):\n",
    "        if move_one == \"Move\":\n",
    "            break\n",
    "        format_string = format_string + \" WHERE (move1=%s OR move2=%s OR move3=%s OR move4=%s)\"\n",
    "        format_tuple = format_tuple + (move_one, move_one, move_one, move_one)\n",
    "        \n",
    "        move_two = two\n",
    "        if move_two == \"Move\":\n",
    "            break\n",
    "        format_string = format_string + \" AND (move1=%s OR move2=%s OR move3=%s OR move4=%s)\"\n",
    "        format_tuple = format_tuple + (move_two, move_two, move_two, move_two)\n",
    "    \n",
    "        move_three = three\n",
    "        if move_three == \"Move\":\n",
    "            break\n",
    "        format_string = format_string + \" AND (move1=%s OR move2=%s OR move3=%s OR move4=%s)\"\n",
    "        format_tuple = format_tuple + (move_three, move_three, move_three, move_three)\n",
    "    \n",
    "        move_four = four\n",
    "        if move_four == \"Move\":\n",
    "            break\n",
    "        format_string = format_string + \" AND (move1=%s OR move2=%s OR move3=%s OR move4=%s)\"\n",
    "        format_tuple = format_tuple + (move_four, move_four, move_four, move_four)\n",
    "    \n",
    "    maxmove_one = one1\n",
    "    if maxmove_one == \"Max Move\":\n",
    "        return format_string, format_tuple\n",
    "    elif move_one == \"Move\":\n",
    "        format_string = format_string + \" WHERE (maxmove1=%s OR maxmove2=%s OR maxmove3=%s OR maxmove4=%s)\"\n",
    "        format_tuple = format_tuple + (maxmove_one, maxmove_one, maxmove_one, maxmove_one)\n",
    "    else:\n",
    "        format_string = format_string + \" AND (maxmove1=%s OR maxmove2=%s OR maxmove3=%s OR maxmove4=%s)\"\n",
    "        format_tuple = format_tuple + (maxmove_one, maxmove_one, maxmove_one, maxmove_one)\n",
    "    \n",
    "    maxmove_two = two1\n",
    "    if maxmove_two == \"Max Move\":\n",
    "        return format_string, format_tuple\n",
    "    format_string = format_string + \" AND (maxmove1=%s OR maxmove2=%s OR maxmove3=%s OR maxmove4=%s)\"\n",
    "    format_tuple = format_tuple + (maxmove_two, maxmove_two, maxmove_two, maxmove_two)\n",
    "    \n",
    "    maxmove_three = three1\n",
    "    if maxmove_three == \"Max Move\":\n",
    "        return format_string, format_tuple\n",
    "    format_string = format_string + \" AND (maxmove1=%s OR maxmove2=%s OR maxmove3=%s OR maxmove4=%s)\"\n",
    "    format_tuple = format_tuple + (maxmove_three, maxmove_three, maxmove_three, maxmove_three)\n",
    "    \n",
    "    maxmove_four = four1\n",
    "    if maxmove_four == \"Max Move\":\n",
    "        return format_string, format_tuple\n",
    "    format_string = format_string + \" AND (maxmove1=%s OR maxmove2=%s OR maxmove3=%s OR maxmove4=%s)\"\n",
    "    format_tuple = format_tuple + (maxmove_four, maxmove_four, maxmove_four, maxmove_four)\n",
    "    \n",
    "    return format_string, format_tuple\n",
    "\n",
    "print(makeFormatString(\"Gyarados\")[0])\n",
    "print(makeFormatString(\"Gyarados\")[1])"
   ]
  },
  {
   "cell_type": "code",
   "execution_count": 13,
   "metadata": {},
   "outputs": [
    {
     "name": "stdout",
     "output_type": "stream",
     "text": [
      "D\n",
      "1987\n",
      "C\n",
      "1023\n",
      "A\n",
      "1000\n",
      "F\n",
      "1000\n",
      "B\n",
      "987\n"
     ]
    }
   ],
   "source": [
    "stats = {\"A\":1000, \"B\":987, \"C\":1023, \"D\":1987, \"E\":567, \"F\":1000, \"G\":125}\n",
    "\n",
    "for i in range(min(5, len(stats))):\n",
    "    key, value = max(stats.items(), key=lambda x:x[1])\n",
    "    print(key)\n",
    "    print(value)\n",
    "    stats.pop(key)"
   ]
  },
  {
   "cell_type": "code",
   "execution_count": 22,
   "metadata": {},
   "outputs": [
    {
     "name": "stdout",
     "output_type": "stream",
     "text": [
      "Flamethrower : 5 / 8 (0.62)\n"
     ]
    }
   ],
   "source": [
    "key = \"Flamethrower\"\n",
    "value = 5\n",
    "total = 8\n",
    "\n",
    "\n",
    "format_string = \"{move_name} : {usage} / {num_poke} ({fraction:.2f})\"\n",
    "result = format_string.format(move_name=key, usage=value, num_poke=total, fraction=value/float(total))\n",
    "\n",
    "print(result)"
   ]
  },
  {
   "cell_type": "code",
   "execution_count": 36,
   "metadata": {},
   "outputs": [
    {
     "name": "stdout",
     "output_type": "stream",
     "text": [
      "(null)\n"
     ]
    }
   ],
   "source": [
    "ability = \"ability: (null)\"\n",
    "result = ability.split(\"ability: \")[1]\n",
    "print(result)"
   ]
  }
 ],
 "metadata": {
  "kernelspec": {
   "display_name": "Python 3",
   "language": "python",
   "name": "python3"
  },
  "language_info": {
   "codemirror_mode": {
    "name": "ipython",
    "version": 3
   },
   "file_extension": ".py",
   "mimetype": "text/x-python",
   "name": "python",
   "nbconvert_exporter": "python",
   "pygments_lexer": "ipython3",
   "version": "3.6.9"
  }
 },
 "nbformat": 4,
 "nbformat_minor": 4
}
